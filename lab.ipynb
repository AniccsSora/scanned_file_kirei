{
 "cells": [
  {
   "cell_type": "code",
   "execution_count": 1,
   "id": "96801576-52fd-4493-b68b-e2064656659a",
   "metadata": {},
   "outputs": [],
   "source": [
    "import cv2\n",
    "from PIL import Image, ImageOps\n",
    "from pathlib import Path\n",
    "import numpy as np\n",
    "import matplotlib.pyplot as plt\n",
    "from scipy import ndimage"
   ]
  },
  {
   "cell_type": "code",
   "execution_count": 2,
   "id": "0bf892dc-0e63-4ea1-9765-b17deea8c7f8",
   "metadata": {},
   "outputs": [],
   "source": [
    "file=Path(\"./testfile.jpg\")"
   ]
  },
  {
   "cell_type": "code",
   "execution_count": null,
   "id": "8e04fb0a-b0f1-4d56-9f17-0eab4f5b476f",
   "metadata": {},
   "outputs": [
    {
     "name": "stderr",
     "output_type": "stream",
     "text": [
      "D:\\Users\\Anicca\\anaconda3\\envs\\fileBinerlize\\lib\\site-packages\\PIL\\Image.py:3035: DecompressionBombWarning: Image size (143197800 pixels) exceeds limit of 89478485 pixels, could be decompression bomb DOS attack.\n",
      "  warnings.warn(\n"
     ]
    }
   ],
   "source": [
    "img=Image.open(file)\n",
    "# \n",
    "RATIO = 1 # 原來的 ?? 倍\n",
    "if RATIO < 1:\n",
    "    img = img.resize((int(img.size[0]*RATIO),int(img.size[1]*RATIO)))\n",
    "\n",
    "grey_img = ImageOps.grayscale(img)\n",
    "img_nd, grey_img_nd = np.array(img), np.array(grey_img)"
   ]
  },
  {
   "cell_type": "code",
   "execution_count": null,
   "id": "9b3329aa-a803-483d-9e7f-b7480f786acd",
   "metadata": {},
   "outputs": [],
   "source": [
    "img = ImageOps.autocontrast(img)"
   ]
  },
  {
   "cell_type": "code",
   "execution_count": null,
   "id": "2295474a-0761-434f-aef6-e2a5823acd63",
   "metadata": {},
   "outputs": [],
   "source": [
    "# 帶\n",
    "ND_IMAGE = img_nd\n",
    "\n",
    "# hist 預設 只統計 10 個區間(bins)\n",
    "fig, axs = plt.subplots(nrows=1, ncols=2, figsize=(10,4))\n",
    "#\n",
    "axs[0].set_title(\"linear-y\")\n",
    "n, _, patches =axs[0].hist(ND_IMAGE.reshape(-1), bins=256);\n",
    "# \n",
    "axs[1].set_title(\"log-y\")\n",
    "n, _, patches =axs[1].hist(ND_IMAGE.reshape(-1), bins=256);\n",
    "plt.yscale('log')\n",
    "#\n",
    "plt.suptitle(\"Grey Histogram\", fontsize=18)\n",
    "plt.tight_layout()\n",
    "plt.show()"
   ]
  },
  {
   "cell_type": "code",
   "execution_count": null,
   "id": "f1978f29-98ee-4989-b0e5-009c8b9f1b58",
   "metadata": {},
   "outputs": [],
   "source": [
    "r = img.histogram()[0:0+256]\n",
    "g = img.histogram()[256:256+256]\n",
    "b = img.histogram()[512:512+256]\n",
    "\n",
    "fig, axs = plt.subplots(nrows=1, ncols=2, figsize=(10, 4))\n",
    "axs[0].plot(r, color='#FF0000')\n",
    "axs[0].plot(g, color='#00FF00')\n",
    "axs[0].plot(b, color='#0000FF')\n",
    "#\n",
    "axs[1].plot(r, color='#FF0000')\n",
    "axs[1].plot(g, color='#00FF00')\n",
    "axs[1].plot(b, color='#0000FF')\n",
    "axs[1].axvline(60)\n",
    "axs[1].axvline(210)\n",
    "#axs[1].axvline(230)\n",
    "plt.yscale('log')\n",
    "#\n",
    "plt.suptitle(\"RGB Histogram (plot)\", fontsize=18)\n",
    "#\n",
    "plt.show()"
   ]
  },
  {
   "cell_type": "code",
   "execution_count": null,
   "id": "e28940cf-259b-4475-bafe-3990d51fd590",
   "metadata": {},
   "outputs": [],
   "source": [
    "img_nd_copy = np.array(img_nd)\n",
    "#shape_ori = img_nd_copy.shape\n",
    "#img_nd_copy = img_nd_copy.reshape(-1, 3)\n",
    "#\n",
    "out_ = 60 \n",
    "out_lt = 210\n",
    "\n",
    "#\n",
    "edit_low = img_nd_copy<out_  # 小於 下區間的\n",
    "edit_height = img_nd_copy>out_lt # 大於 上區間的\n",
    "\n",
    "edit_low = np.all(edit_low, axis=2)\n",
    "edit_height = np.all(edit_height, axis=2)\n",
    "\n",
    "img_nd_copy[edit_low] = [0,0,0]\n",
    "img_nd_copy[edit_height] = [255, 255, 255]\n",
    "# for idx,(r,g,b) in enumerate(img_nd_copy):\n",
    "#     if r < out_ and g < out_ and b < out_:\n",
    "#         img_nd_copy[idx] = [0, 0, 0]\n",
    "#     if r > out_lt and g > out_lt and b > out_lt:\n",
    "#         img_nd_copy[idx] = [255, 255, 255]\n",
    "#\n",
    "#img_nd_copy = img_nd_copy.reshape(shape_ori)"
   ]
  },
  {
   "cell_type": "code",
   "execution_count": null,
   "id": "ba6cdd44-2abd-4225-a105-a8371326e30a",
   "metadata": {},
   "outputs": [],
   "source": [
    "plt.imshow(img_nd_copy)\n",
    "plt.show()\n",
    "\n",
    "for_save = Image.fromarray(img_nd_copy)\n",
    "for_save.save(\"./re.png\")"
   ]
  },
  {
   "cell_type": "code",
   "execution_count": 6,
   "id": "c12fe21a-07bf-4914-a4c9-41af00b2235e",
   "metadata": {},
   "outputs": [
    {
     "ename": "NameError",
     "evalue": "name 'img_nd_copy' is not defined",
     "output_type": "error",
     "traceback": [
      "\u001b[1;31m---------------------------------------------------------------------------\u001b[0m",
      "\u001b[1;31mNameError\u001b[0m                                 Traceback (most recent call last)",
      "Input \u001b[1;32mIn [6]\u001b[0m, in \u001b[0;36m<cell line: 1>\u001b[1;34m()\u001b[0m\n\u001b[1;32m----> 1\u001b[0m \u001b[43mimg_nd_copy\u001b[49m\u001b[38;5;241m.\u001b[39mshape\n\u001b[0;32m      2\u001b[0m img_nd_copy\u001b[38;5;241m.\u001b[39mdims\n",
      "\u001b[1;31mNameError\u001b[0m: name 'img_nd_copy' is not defined"
     ]
    }
   ],
   "source": [
    "img_nd_copy.shape\n"
   ]
  },
  {
   "cell_type": "code",
   "execution_count": null,
   "id": "08d75cd1-f028-4351-83ae-62f981564b20",
   "metadata": {},
   "outputs": [],
   "source": [
    "median_ksize = 3\n",
    "for i in range(8):\n",
    "    ks_ = (median_ksize,median_ksize)\n",
    "    #\n",
    "    after_median = ndimage.median_filter(img_nd_copy[:,:,0], size=ks_)\n",
    "    after_median_1=ndimage.median_filter(img_nd_copy[:,:,1], size=ks_)\n",
    "    after_median_2=ndimage.median_filter(img_nd_copy[:,:,2], size=ks_)\n",
    "    #\n",
    "    new_median = np.dstack((after_median,after_median_1,after_median_2))\n",
    "    #\n",
    "    for_save = Image.fromarray(new_median)\n",
    "    for_save.save(f\"./new_median_{median_ksize}.png\")\n",
    "    \n",
    "    median_ksize += 2"
   ]
  },
  {
   "cell_type": "code",
   "execution_count": null,
   "id": "f34467a9-43cf-4bf7-8783-66510046ce17",
   "metadata": {},
   "outputs": [],
   "source": [
    "# make margin while\n",
    "# 讓4邊緣 bang 白\n",
    "w_remain = [0.0745, 0.880]\n",
    "h_remain = [0.0450, 0.925]\n",
    "\n",
    "w, h = new_median.shape[1::-1]\n",
    "\n",
    "new_median[::, 0:int(w*w_remain[0])] = [255,255,255]  # L\n",
    "new_median[::, int(w*w_remain[1]): ] = [255,255,255]  # R\n",
    "new_median[0:int(h*h_remain[0]), ::] = [255,255,255]  # T\n",
    "new_median[int(h*h_remain[1]): , ::] = [255,255,255]  # B"
   ]
  },
  {
   "cell_type": "code",
   "execution_count": null,
   "id": "2764d347-db71-4c3a-a3a5-e1abcd3d01d0",
   "metadata": {},
   "outputs": [],
   "source": [
    "for_save = Image.fromarray(new_median)\n",
    "for_save.save(f\"./new_median_removeMargin_{median_ksize}.png\")"
   ]
  },
  {
   "cell_type": "code",
   "execution_count": null,
   "id": "bf11bb41-d6d7-453f-86c8-033d20bd8629",
   "metadata": {},
   "outputs": [],
   "source": []
  }
 ],
 "metadata": {
  "kernelspec": {
   "display_name": "Python 3 (ipykernel)",
   "language": "python",
   "name": "python3"
  },
  "language_info": {
   "codemirror_mode": {
    "name": "ipython",
    "version": 3
   },
   "file_extension": ".py",
   "mimetype": "text/x-python",
   "name": "python",
   "nbconvert_exporter": "python",
   "pygments_lexer": "ipython3",
   "version": "3.9.12"
  }
 },
 "nbformat": 4,
 "nbformat_minor": 5
}
